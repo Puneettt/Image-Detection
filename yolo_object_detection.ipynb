{
  "cells": [
    {
      "cell_type": "markdown",
      "id": "d8abc26b",
      "metadata": {},
      "source": [
        "FaceNet is a model developed in 2015 which extracts high quality features from the given image \n",
        "and predicts 128 sized vectors called image embeddings.\n",
        "\n",
        "It's a deep CNN model which is optimized via triplet loss function. Aimed at making vector embeddings for the same identity\n",
        "to have less distance and larger distances for vestors of different identities.\n",
        "\n",
        "A notable example is Keras FaceNet by Hiroki Taniai. His project provides a script for converting the Inception ResNet v1 model from TensorFlow to Keras. He also provides a pre-trained Keras model ready for use.\n",
        "\n",
        "We will use the pre-trained Keras FaceNet model provided by Hiroki Taniai in this tutorial. It was trained on MS-Celeb-1M dataset and expects input images to be color, to have their pixel values whitened (standardized across all three channels), and to have a square shape of 160×160 pixels.\n"
      ]
    },
    {
      "cell_type": "markdown",
      "id": "5de0b992",
      "metadata": {},
      "source": [
        "It uses YOLO (you only look once) algo. \n",
        "There are 3 versions YOLOv1 - general architecture. YOLOv2 - refined and predefined anchor boxes to improve bounding box proposal.\n",
        "YOLOv3 - Further refined structure and training.\n",
        "\n",
        "YOLO approach consists of one deep CNN that splits input to grid cells and predcits bounding boxes and detect object. Lots of bounding boxes are predicted so we get rid of insignificant ones using IoU and NMS process. It all happens in one evaluation with faster process often used in live videos.\n",
        "\n",
        "Since the whole detection pipeline is a single network, it can be optimized end-to-end directly on detection performance."
      ]
    },
    {
      "cell_type": "markdown",
      "id": "99d1480a",
      "metadata": {},
      "source": [
        "OVERVIEW \n",
        "\n",
        "DarkNet GitHub contains code for all yolo versions.\n",
        "\n",
        "YAD2K project makes yolov2 code for loading weights and pretrained model and use to predcit object and bounding boxes.\n",
        "\n",
        "Perhaps the most widely used project for using pre-trained the YOLO models is called “keras-yolo3: Training and Detecting Objects with YOLO3” by Huynh Ngoc Anh or experiencor. The code in the project has been made available under a permissive MIT open source license. Like YAD2K, it provides scripts to both load and use pre-trained YOLO models as well as transfer learning for developing YOLOv3 models on new datasets.\n",
        "\n",
        "He also has a keras-yolo2 project that provides similar code for YOLOv2 as well as detailed tutorials on how to use the code in the repository. The keras-yolo3 project appears to be an updated version of that project.\n",
        "\n",
        "He has applied thing mdoel for standard object detection like kangaroo or red bloo dcell prediction.\n",
        "\n",
        "We will use experiencor’s keras-yolo3 project as the basis for performing object detection with a YOLOv3 model in this tutorial."
      ]
    },
    {
      "cell_type": "markdown",
      "id": "c4773c66",
      "metadata": {},
      "source": [
        "## OBJECT Detection with yolov3 keras model"
      ]
    },
    {
      "cell_type": "markdown",
      "id": "b706160e",
      "metadata": {},
      "source": [
        "We will load keras yolov3 model, it's weights and perform object detecion on unseen photograph.\n",
        "\n",
        "First download the weights - It was trained on DarkNet Code base on MSCOCO dataset.\n",
        "\n",
        "### let's make the model with the same architecture as DarkNet Code Base (loosely made from VGG_16 model) from which we have extracted the weights.\n",
        "model = make_volov3_model()\n",
        "\n",
        "### Loding weights\n",
        "weight_reader = WeightReader('yolov3.weights')\n",
        "\n",
        "### set the model weights into the model using load_weights() func\n",
        "weight_reader.load_weights(model)\n",
        "\n",
        "save the model with keras compatible .H5 file\n",
        "model.save('model.H5')"
      ]
    },
    {
      "cell_type": "code",
      "execution_count": 1,
      "id": "900fc73b",
      "metadata": {},
      "outputs": [
        {
          "name": "stderr",
          "output_type": "stream",
          "text": [
            "C:\\Users\\p192\\AppData\\Roaming\\Python\\Python39\\site-packages\\pandas\\core\\computation\\expressions.py:21: UserWarning: Pandas requires version '2.8.0' or newer of 'numexpr' (version '2.7.3' currently installed).\n",
            "  from pandas.core.computation.check import NUMEXPR_INSTALLED\n",
            "C:\\Users\\p192\\AppData\\Roaming\\Python\\Python39\\site-packages\\pandas\\core\\arrays\\masked.py:62: UserWarning: Pandas requires version '1.3.4' or newer of 'bottleneck' (version '1.3.2' currently installed).\n",
            "  from pandas.core import (\n"
          ]
        }
      ],
      "source": [
        "import struct\n",
        "import numpy as np\n",
        "from keras.layers import Conv2D\n",
        "from keras.layers import Input\n",
        "from keras.layers import BatchNormalization\n",
        "from keras.layers import LeakyReLU\n",
        "from keras.layers import ZeroPadding2D\n",
        "from keras.layers import UpSampling2D\n",
        "from keras.layers import add, concatenate\n",
        "from keras.models import Model, load_model\n"
      ]
    },
    {
      "cell_type": "code",
      "execution_count": null,
      "id": "bb3394b6",
      "metadata": {},
      "outputs": [],
      "source": [
        "will create new model using pretrained model.\n",
        "make_yolov3_model() will create architecture of many conv_blocks comprising of 100 odds layers. \n",
        "\n",
        "conv_blocks are formed using different combinations of filters, kernels, padding and striding. Used bias for leaky_relu and no bias if batch_normalization\n",
        "\n",
        "Also adding skip connections with layer outputs to improve results or reduce overfitting  \n",
        "\n",
        "After creating 5 blocks of 36 layers - skip_36\n",
        "\n",
        "After creating 7 blocks of 61 layers - skip_61\n",
        "\n",
        "upsampled and then concatenate(ll blocks_84 layers, skip_61)\n",
        "upsampled and then concatenate(l3 blocks_96 layers, skip_36)\n",
        "\n",
        "[yolo_82, yolo_94, yolo_106]\n",
        "\n",
        "I used WeightReader class which has load_weights() function to unpack weights using get_weights() and assign them to corresponding layers using set_weights() to the architecture designed using convblocks.\n",
        "\n",
        "Then will save this new model and read it again to make predictions on new images.\n"
      ]
    },
    {
      "cell_type": "code",
      "execution_count": 2,
      "id": "03dc758f",
      "metadata": {},
      "outputs": [
        {
          "name": "stderr",
          "output_type": "stream",
          "text": [
            "C:\\Users\\p192\\AppData\\Roaming\\Python\\Python39\\site-packages\\keras\\src\\layers\\activations\\leaky_relu.py:41: UserWarning: Argument `alpha` is deprecated. Use `negative_slope` instead.\n",
            "  warnings.warn(\n"
          ]
        },
        {
          "name": "stdout",
          "output_type": "stream",
          "text": [
            "loading weights of convolution #0\n",
            "loading weights of convolution #1\n",
            "loading weights of convolution #2\n",
            "loading weights of convolution #3\n",
            "no convolution #4\n",
            "loading weights of convolution #5\n",
            "loading weights of convolution #6\n",
            "loading weights of convolution #7\n",
            "no convolution #8\n",
            "loading weights of convolution #9\n",
            "loading weights of convolution #10\n",
            "no convolution #11\n",
            "loading weights of convolution #12\n",
            "loading weights of convolution #13\n",
            "loading weights of convolution #14\n",
            "no convolution #15\n",
            "loading weights of convolution #16\n",
            "loading weights of convolution #17\n",
            "no convolution #18\n",
            "loading weights of convolution #19\n",
            "loading weights of convolution #20\n",
            "no convolution #21\n",
            "loading weights of convolution #22\n",
            "loading weights of convolution #23\n",
            "no convolution #24\n",
            "loading weights of convolution #25\n",
            "loading weights of convolution #26\n",
            "no convolution #27\n",
            "loading weights of convolution #28\n",
            "loading weights of convolution #29\n",
            "no convolution #30\n",
            "loading weights of convolution #31\n",
            "loading weights of convolution #32\n",
            "no convolution #33\n",
            "loading weights of convolution #34\n",
            "loading weights of convolution #35\n",
            "no convolution #36\n",
            "loading weights of convolution #37\n",
            "loading weights of convolution #38\n",
            "loading weights of convolution #39\n",
            "no convolution #40\n",
            "loading weights of convolution #41\n",
            "loading weights of convolution #42\n",
            "no convolution #43\n",
            "loading weights of convolution #44\n",
            "loading weights of convolution #45\n",
            "no convolution #46\n",
            "loading weights of convolution #47\n",
            "loading weights of convolution #48\n",
            "no convolution #49\n",
            "loading weights of convolution #50\n",
            "loading weights of convolution #51\n",
            "no convolution #52\n",
            "loading weights of convolution #53\n",
            "loading weights of convolution #54\n",
            "no convolution #55\n",
            "loading weights of convolution #56\n",
            "loading weights of convolution #57\n",
            "no convolution #58\n",
            "loading weights of convolution #59\n",
            "loading weights of convolution #60\n",
            "no convolution #61\n",
            "loading weights of convolution #62\n",
            "loading weights of convolution #63\n",
            "loading weights of convolution #64\n",
            "no convolution #65\n",
            "loading weights of convolution #66\n",
            "loading weights of convolution #67\n",
            "no convolution #68\n",
            "loading weights of convolution #69\n",
            "loading weights of convolution #70\n",
            "no convolution #71\n",
            "loading weights of convolution #72\n",
            "loading weights of convolution #73\n",
            "no convolution #74\n",
            "loading weights of convolution #75\n",
            "loading weights of convolution #76\n",
            "loading weights of convolution #77\n",
            "loading weights of convolution #78\n",
            "loading weights of convolution #79\n",
            "loading weights of convolution #80\n",
            "loading weights of convolution #81\n",
            "no convolution #82\n",
            "no convolution #83\n",
            "loading weights of convolution #84\n",
            "no convolution #85\n",
            "no convolution #86\n",
            "loading weights of convolution #87\n",
            "loading weights of convolution #88\n",
            "loading weights of convolution #89\n",
            "loading weights of convolution #90\n",
            "loading weights of convolution #91\n",
            "loading weights of convolution #92\n",
            "loading weights of convolution #93\n",
            "no convolution #94\n",
            "no convolution #95\n",
            "loading weights of convolution #96\n",
            "no convolution #97\n",
            "no convolution #98\n",
            "loading weights of convolution #99\n",
            "loading weights of convolution #100\n",
            "loading weights of convolution #101\n",
            "loading weights of convolution #102\n",
            "loading weights of convolution #103\n"
          ]
        },
        {
          "name": "stderr",
          "output_type": "stream",
          "text": [
            "WARNING:absl:You are saving your model as an HDF5 file via `model.save()` or `keras.saving.save_model(model)`. This file format is considered legacy. We recommend using instead the native Keras format, e.g. `model.save('my_model.keras')` or `keras.saving.save_model(model, 'my_model.keras')`. \n"
          ]
        },
        {
          "name": "stdout",
          "output_type": "stream",
          "text": [
            "loading weights of convolution #104\n",
            "loading weights of convolution #105\n"
          ]
        }
      ],
      "source": [
        "'''\n",
        "Define convolution blocks and model architecture same as model weights.\n",
        "'''\n",
        "def _conv_block(inp, convs, skip=True):\n",
        "    x = inp\n",
        "    count = 0\n",
        "    \n",
        "    for conv in convs:\n",
        "        if count == (len(convs) - 2) and skip:\n",
        "            skip_connection = x\n",
        "        count += 1\n",
        "        \n",
        "        if conv['stride'] > 1: x = ZeroPadding2D(((1,0),(1,0)))(x) # peculiar padding as darknet prefer left and top\n",
        "        x = Conv2D(conv['filter'], \n",
        "                   conv['kernel'], \n",
        "                   strides=conv['stride'], \n",
        "                   padding='valid' if conv['stride'] > 1 else 'same', # peculiar padding as darknet prefer left and top\n",
        "                   name='conv_' + str(conv['layer_idx']), \n",
        "                   use_bias=False if conv['bnorm'] else True)(x)\n",
        "        if conv['bnorm']: x = BatchNormalization(epsilon=0.001, name='bnorm_' + str(conv['layer_idx']))(x)\n",
        "        if conv['leaky']: x = LeakyReLU(alpha=0.1, name='leaky_' + str(conv['layer_idx']))(x)\n",
        "\n",
        "    return add([skip_connection, x]) if skip else x\n",
        "\n",
        "def make_yolov3_model():\n",
        "    input_image = Input(shape=(None, None, 3))\n",
        "\n",
        "    # Layer  0 => 4\n",
        "    x = _conv_block(input_image, [{'filter': 32, 'kernel': 3, 'stride': 1, 'bnorm': True, 'leaky': True, 'layer_idx': 0},\n",
        "                                  {'filter': 64, 'kernel': 3, 'stride': 2, 'bnorm': True, 'leaky': True, 'layer_idx': 1},\n",
        "                                  {'filter': 32, 'kernel': 1, 'stride': 1, 'bnorm': True, 'leaky': True, 'layer_idx': 2},\n",
        "                                  {'filter': 64, 'kernel': 3, 'stride': 1, 'bnorm': True, 'leaky': True, 'layer_idx': 3}])\n",
        "\n",
        "    # Layer  5 => 8\n",
        "    x = _conv_block(x, [{'filter': 128, 'kernel': 3, 'stride': 2, 'bnorm': True, 'leaky': True, 'layer_idx': 5},\n",
        "                        {'filter':  64, 'kernel': 1, 'stride': 1, 'bnorm': True, 'leaky': True, 'layer_idx': 6},\n",
        "                        {'filter': 128, 'kernel': 3, 'stride': 1, 'bnorm': True, 'leaky': True, 'layer_idx': 7}])\n",
        "\n",
        "    # Layer  9 => 11\n",
        "    x = _conv_block(x, [{'filter':  64, 'kernel': 1, 'stride': 1, 'bnorm': True, 'leaky': True, 'layer_idx': 9},\n",
        "                        {'filter': 128, 'kernel': 3, 'stride': 1, 'bnorm': True, 'leaky': True, 'layer_idx': 10}])\n",
        "\n",
        "    # Layer 12 => 15\n",
        "    x = _conv_block(x, [{'filter': 256, 'kernel': 3, 'stride': 2, 'bnorm': True, 'leaky': True, 'layer_idx': 12},\n",
        "                        {'filter': 128, 'kernel': 1, 'stride': 1, 'bnorm': True, 'leaky': True, 'layer_idx': 13},\n",
        "                        {'filter': 256, 'kernel': 3, 'stride': 1, 'bnorm': True, 'leaky': True, 'layer_idx': 14}])\n",
        "\n",
        "    # Layer 16 => 36\n",
        "    for i in range(7):\n",
        "        x = _conv_block(x, [{'filter': 128, 'kernel': 1, 'stride': 1, 'bnorm': True, 'leaky': True, 'layer_idx': 16+i*3},\n",
        "                            {'filter': 256, 'kernel': 3, 'stride': 1, 'bnorm': True, 'leaky': True, 'layer_idx': 17+i*3}])\n",
        "        \n",
        "    skip_36 = x\n",
        "        \n",
        "    # Layer 37 => 40\n",
        "    x = _conv_block(x, [{'filter': 512, 'kernel': 3, 'stride': 2, 'bnorm': True, 'leaky': True, 'layer_idx': 37},\n",
        "                        {'filter': 256, 'kernel': 1, 'stride': 1, 'bnorm': True, 'leaky': True, 'layer_idx': 38},\n",
        "                        {'filter': 512, 'kernel': 3, 'stride': 1, 'bnorm': True, 'leaky': True, 'layer_idx': 39}])\n",
        "\n",
        "    # Layer 41 => 61\n",
        "    for i in range(7):\n",
        "        x = _conv_block(x, [{'filter': 256, 'kernel': 1, 'stride': 1, 'bnorm': True, 'leaky': True, 'layer_idx': 41+i*3},\n",
        "                            {'filter': 512, 'kernel': 3, 'stride': 1, 'bnorm': True, 'leaky': True, 'layer_idx': 42+i*3}])\n",
        "        \n",
        "    skip_61 = x\n",
        "        \n",
        "    # Layer 62 => 65\n",
        "    x = _conv_block(x, [{'filter': 1024, 'kernel': 3, 'stride': 2, 'bnorm': True, 'leaky': True, 'layer_idx': 62},\n",
        "                        {'filter':  512, 'kernel': 1, 'stride': 1, 'bnorm': True, 'leaky': True, 'layer_idx': 63},\n",
        "                        {'filter': 1024, 'kernel': 3, 'stride': 1, 'bnorm': True, 'leaky': True, 'layer_idx': 64}])\n",
        "\n",
        "    # Layer 66 => 74\n",
        "    for i in range(3):\n",
        "        x = _conv_block(x, [{'filter':  512, 'kernel': 1, 'stride': 1, 'bnorm': True, 'leaky': True, 'layer_idx': 66+i*3},\n",
        "                            {'filter': 1024, 'kernel': 3, 'stride': 1, 'bnorm': True, 'leaky': True, 'layer_idx': 67+i*3}])\n",
        "        \n",
        "    # Layer 75 => 79\n",
        "    x = _conv_block(x, [{'filter':  512, 'kernel': 1, 'stride': 1, 'bnorm': True, 'leaky': True, 'layer_idx': 75},\n",
        "                        {'filter': 1024, 'kernel': 3, 'stride': 1, 'bnorm': True, 'leaky': True, 'layer_idx': 76},\n",
        "                        {'filter':  512, 'kernel': 1, 'stride': 1, 'bnorm': True, 'leaky': True, 'layer_idx': 77},\n",
        "                        {'filter': 1024, 'kernel': 3, 'stride': 1, 'bnorm': True, 'leaky': True, 'layer_idx': 78},\n",
        "                        {'filter':  512, 'kernel': 1, 'stride': 1, 'bnorm': True, 'leaky': True, 'layer_idx': 79}], skip=False)\n",
        "\n",
        "    # Layer 80 => 82\n",
        "    yolo_82 = _conv_block(x, [{'filter': 1024, 'kernel': 3, 'stride': 1, 'bnorm': True,  'leaky': True,  'layer_idx': 80},\n",
        "                              {'filter':  255, 'kernel': 1, 'stride': 1, 'bnorm': False, 'leaky': False, 'layer_idx': 81}], skip=False)\n",
        "\n",
        "    # Layer 83 => 86\n",
        "    x = _conv_block(x, [{'filter': 256, 'kernel': 1, 'stride': 1, 'bnorm': True, 'leaky': True, 'layer_idx': 84}], skip=False)\n",
        "    x = UpSampling2D(2)(x)\n",
        "    x = concatenate([x, skip_61])\n",
        "\n",
        "    # Layer 87 => 91\n",
        "    x = _conv_block(x, [{'filter': 256, 'kernel': 1, 'stride': 1, 'bnorm': True, 'leaky': True, 'layer_idx': 87},\n",
        "                        {'filter': 512, 'kernel': 3, 'stride': 1, 'bnorm': True, 'leaky': True, 'layer_idx': 88},\n",
        "                        {'filter': 256, 'kernel': 1, 'stride': 1, 'bnorm': True, 'leaky': True, 'layer_idx': 89},\n",
        "                        {'filter': 512, 'kernel': 3, 'stride': 1, 'bnorm': True, 'leaky': True, 'layer_idx': 90},\n",
        "                        {'filter': 256, 'kernel': 1, 'stride': 1, 'bnorm': True, 'leaky': True, 'layer_idx': 91}], skip=False)\n",
        "\n",
        "    # Layer 92 => 94\n",
        "    yolo_94 = _conv_block(x, [{'filter': 512, 'kernel': 3, 'stride': 1, 'bnorm': True,  'leaky': True,  'layer_idx': 92},\n",
        "                              {'filter': 255, 'kernel': 1, 'stride': 1, 'bnorm': False, 'leaky': False, 'layer_idx': 93}], skip=False)\n",
        "\n",
        "    # Layer 95 => 98\n",
        "    x = _conv_block(x, [{'filter': 128, 'kernel': 1, 'stride': 1, 'bnorm': True, 'leaky': True,   'layer_idx': 96}], skip=False)\n",
        "    x = UpSampling2D(2)(x)\n",
        "    x = concatenate([x, skip_36])\n",
        "\n",
        "    # Layer 99 => 106\n",
        "    yolo_106 = _conv_block(x, [{'filter': 128, 'kernel': 1, 'stride': 1, 'bnorm': True,  'leaky': True,  'layer_idx': 99},\n",
        "                               {'filter': 256, 'kernel': 3, 'stride': 1, 'bnorm': True,  'leaky': True,  'layer_idx': 100},\n",
        "                               {'filter': 128, 'kernel': 1, 'stride': 1, 'bnorm': True,  'leaky': True,  'layer_idx': 101},\n",
        "                               {'filter': 256, 'kernel': 3, 'stride': 1, 'bnorm': True,  'leaky': True,  'layer_idx': 102},\n",
        "                               {'filter': 128, 'kernel': 1, 'stride': 1, 'bnorm': True,  'leaky': True,  'layer_idx': 103},\n",
        "                               {'filter': 256, 'kernel': 3, 'stride': 1, 'bnorm': True,  'leaky': True,  'layer_idx': 104},\n",
        "                               {'filter': 255, 'kernel': 1, 'stride': 1, 'bnorm': False, 'leaky': False, 'layer_idx': 105}], skip=False)\n",
        "\n",
        "    model = Model(input_image, [yolo_82, yolo_94, yolo_106])    \n",
        "    return model\n",
        "\n",
        "\n",
        "class WeightReader:\n",
        "    def __init__(self, weight_file):\n",
        "        with open(weight_file, 'rb') as w_f:\n",
        "            major,    = struct.unpack('i', w_f.read(4))\n",
        "            minor,    = struct.unpack('i', w_f.read(4))\n",
        "            revision, = struct.unpack('i', w_f.read(4))\n",
        "\n",
        "            if (major*10 + minor) >= 2 and major < 1000 and minor < 1000:\n",
        "                w_f.read(8)\n",
        "            else:\n",
        "                w_f.read(4)\n",
        "\n",
        "            transpose = (major > 1000) or (minor > 1000)\n",
        "            \n",
        "            binary = w_f.read()\n",
        "\n",
        "        self.offset = 0\n",
        "        self.all_weights = np.frombuffer(binary, dtype='float32')\n",
        "        \n",
        "    def read_bytes(self, size):\n",
        "        self.offset = self.offset + size\n",
        "        return self.all_weights[self.offset-size:self.offset]\n",
        "\n",
        "    def load_weights(self, model):\n",
        "        for i in range(106):\n",
        "            try:\n",
        "                conv_layer = model.get_layer('conv_' + str(i))\n",
        "                print(\"loading weights of convolution #\" + str(i))\n",
        "\n",
        "                if i not in [81, 93, 105]:\n",
        "                    norm_layer = model.get_layer('bnorm_' + str(i))\n",
        "\n",
        "                    size = np.prod(norm_layer.get_weights()[0].shape)\n",
        "\n",
        "                    beta  = self.read_bytes(size) # bias\n",
        "                    gamma = self.read_bytes(size) # scale\n",
        "                    mean  = self.read_bytes(size) # mean\n",
        "                    var   = self.read_bytes(size) # variance            \n",
        "\n",
        "                    weights = norm_layer.set_weights([gamma, beta, mean, var])  \n",
        "\n",
        "                if len(conv_layer.get_weights()) > 1:\n",
        "                    bias   = self.read_bytes(np.prod(conv_layer.get_weights()[1].shape))\n",
        "                    kernel = self.read_bytes(np.prod(conv_layer.get_weights()[0].shape))\n",
        "                    \n",
        "                    kernel = kernel.reshape(list(reversed(conv_layer.get_weights()[0].shape)))\n",
        "                    kernel = kernel.transpose([2,3,1,0])\n",
        "                    conv_layer.set_weights([kernel, bias])\n",
        "                else:\n",
        "                    kernel = self.read_bytes(np.prod(conv_layer.get_weights()[0].shape))\n",
        "                    kernel = kernel.reshape(list(reversed(conv_layer.get_weights()[0].shape)))\n",
        "                    kernel = kernel.transpose([2,3,1,0])\n",
        "                    conv_layer.set_weights([kernel])\n",
        "            except ValueError:\n",
        "                print(\"no convolution #\" + str(i))     \n",
        "    \n",
        "    def reset(self):\n",
        "        self.offset = 0\n",
        "\n",
        "\n",
        "# define the model\n",
        "model = make_yolov3_model()\n",
        "\n",
        "# load weights\n",
        "weight_reader = WeightReader('yolov3.weights')\n",
        "\n",
        "#Using weights in the model\n",
        "weight_reader.load_weights(model)\n",
        "\n",
        "#save the model to file\n",
        "model.save('model.h5')"
      ]
    },
    {
      "cell_type": "markdown",
      "id": "60432377",
      "metadata": {},
      "source": [
        "Weights from the pretrained models have been loaded and applied to corresponding conv layers and saved again in the current directory."
      ]
    },
    {
      "cell_type": "markdown",
      "id": "89710e5b",
      "metadata": {},
      "source": [
        "### making Predictions"
      ]
    },
    {
      "cell_type": "code",
      "execution_count": 12,
      "id": "c8bd7818",
      "metadata": {},
      "outputs": [
        {
          "name": "stderr",
          "output_type": "stream",
          "text": [
            "WARNING:absl:No training configuration found in the save file, so the model was *not* compiled. Compile it manually.\n"
          ]
        },
        {
          "name": "stdout",
          "output_type": "stream",
          "text": [
            "\u001b[1m1/1\u001b[0m \u001b[32m━━━━━━━━━━━━━━━━━━━━\u001b[0m\u001b[37m\u001b[0m \u001b[1m2s\u001b[0m 2s/step\n",
            "[(1, 13, 13, 255), (1, 26, 26, 255), (1, 52, 52, 255)]\n",
            "\n",
            "\n",
            "Prediction outputs 3 numpy arrays which are shapes of 3 bounding boxes. But also contains the bounding boxes and class labels that needs to be decoded.\n"
          ]
        }
      ],
      "source": [
        "from numpy import expand_dims\n",
        "from keras.preprocessing.image import load_img\n",
        "from keras.preprocessing.image import img_to_array\n",
        "\n",
        "# Load the image original\n",
        "def image_load(image, shape):\n",
        "    #load original image\n",
        "    img = load_img(image)\n",
        "    width, height = img.size\n",
        "    \n",
        "    #reshape image to model size\n",
        "    img = load_img(image, target_size = shape)\n",
        "    #to numpy array\n",
        "    img = img_to_array(img)\n",
        "    #to float and rescale\n",
        "    img = img.astype('float32')\n",
        "    img = img/225\n",
        "    \n",
        "    # add a dimension so that we have one sample\n",
        "    img = expand_dims(img, 0)\n",
        "    \n",
        "    return img, width, height\n",
        "\n",
        "# load_model\n",
        "model = load_model('model.h5')\n",
        "\n",
        "# input image\n",
        "image = 'zebra.jpg'\n",
        "shape = (416, 416)\n",
        "img, width, height = image_load(image, shape)\n",
        "\n",
        "#make_predictions\n",
        "yhat = model.predict(img)\n",
        "\n",
        "#shape of the yhat\n",
        "print([a.shape for a in yhat])\n",
        "print('\\n')\n",
        "print('Prediction outputs 3 numpy arrays which are shapes of 3 bounding boxes. But also contains the bounding boxes and class labels that needs to be decoded.')"
      ]
    },
    {
      "cell_type": "code",
      "execution_count": null,
      "id": "031683dc",
      "metadata": {},
      "outputs": [],
      "source": [
        " "
      ]
    },
    {
      "cell_type": "markdown",
      "id": "5a5f867a",
      "metadata": {},
      "source": [
        "These 3 bounding boxes are are defined in context of anchor boxes, whose size is choosen based on images in the MSCOCO dataset.\n",
        "\n"
      ]
    },
    {
      "cell_type": "code",
      "execution_count": 13,
      "id": "91d1ddad",
      "metadata": {},
      "outputs": [],
      "source": [
        "# based on https://github.com/experiencor/keras-yolo3\n",
        "\n",
        "import numpy as np\n",
        "from numpy import expand_dims\n",
        "from keras.models import load_model\n",
        "from keras.preprocessing.image import load_img\n",
        "from keras.preprocessing.image import img_to_array\n",
        "from matplotlib import pyplot\n",
        "from matplotlib.patches import Rectangle\n",
        "\n",
        "class BoundBox:\n",
        "    def __init__(self, xmin, ymin, xmax, ymax, objness = None, classes = None):\n",
        "        self.xmin = xmin\n",
        "        self.ymin = ymin\n",
        "        self.xmax = xmax\n",
        "        self.ymax = ymax\n",
        "        self.objness = objness\n",
        "        self.classes = classes\n",
        "        self.label = -1\n",
        "        self.score = -1\n",
        "\n",
        "    def get_label(self):\n",
        "        if self.label == -1:\n",
        "            self.label = np.argmax(self.classes)\n",
        "\n",
        "        return self.label\n",
        "\n",
        "    def get_score(self):\n",
        "        if self.score == -1:\n",
        "            self.score = self.classes[self.get_label()]\n",
        "\n",
        "        return self.score\n",
        "\n",
        "def _sigmoid(x):\n",
        "    return 1. / (1. + np.exp(-x))\n",
        "\n",
        "'''\n",
        "decode_netout() will iterate through these 3 numpy boxes and pull bounding boxes (with prob > 60%) along with their class labels\n",
        "in the context of the input image shape. It calculates position in the space and class BoundBox predicts score and class and \n",
        "saves all these values for 3 boxes and return it.\n",
        "\n",
        "I think there are two questions here. Firstly, the one in the title, asking where the anchors come from. Secondly, how anchors are assigned to objects. I'll try to answer both.\n",
        "\n",
        "Anchors are determined by a k-means procedure, looking at all the bounding boxes in your dataset. \n",
        "If you're looking at vehicles, the ones you see from the side will have an aspect ratio of about 2:1 (width = 2*height). \n",
        "The ones viewed from in front will be roughly square, 1:1. If your dataset includes people, the aspect ratio might be 1:3. \n",
        "Foreground objects will be large, background objects will be small. The k-means routine will figure out a selection of anchors \n",
        "that represent your dataset. k=5 for yolov3, but there are different numbers of anchors for each YOLO version.\n",
        "It's useful to have anchors that represent your dataset, because YOLO learns how to make small adjustments to the anchor boxes \n",
        "in order to create an accurate bounding box for your object. YOLO can learn small adjustments better/easier than large ones.\n",
        "'''\n",
        "\n",
        "def decode_netout(netout, anchors, obj_thresh, net_h, net_w):\n",
        "    grid_h, grid_w = netout.shape[:2]        # pulled first two numbers as grid height and grid width\n",
        "    nb_box = 3                               # 3 boxes to consider \n",
        "    netout = netout.reshape((grid_h, grid_w, nb_box, -1)) \n",
        "    nb_class = netout.shape[-1] - 5\n",
        "    boxes = []\n",
        "    netout[..., :2]  = _sigmoid(netout[..., :2]) # scores geenrated in output are fed to sigmoid to calculate probs\n",
        "    netout[..., 4:]  = _sigmoid(netout[..., 4:])\n",
        "    netout[..., 5:]  = netout[..., 4][..., np.newaxis] * netout[..., 5:]\n",
        "    netout[..., 5:] *= netout[..., 5:] > obj_thresh  #consider only boxes which has probs > 60% or obj_threshold\n",
        "\n",
        "    for i in range(grid_h*grid_w):\n",
        "        '''we iterate through whole grids as rows and columns to find if there is any image present through probs score \n",
        "        in any specific grid. And in that we find dimenions image's center position (x,y) and anchor \n",
        "        # These dimesnions are fed to BoundBox class to return the class and probs of the bouding boxes that got selected.\n",
        "        '''\n",
        "        row = i / grid_w\n",
        "        col = i % grid_w\n",
        "        for b in range(nb_box):                            # to iterate through first box. \n",
        "            # 4th element is objectness score\n",
        "            objectness = netout[int(row)][int(col)][b][4]  # 5th element in prediction is seen which has prob score\n",
        "            if(objectness.all() <= obj_thresh): continue\n",
        "            # first 4 elements are x, y, w, and h\n",
        "            x, y, w, h = netout[int(row)][int(col)][b][:4]  # first 4 has image width, image height, anchor width, anchor height\n",
        "            x = (col + x) / grid_w # center position, unit: image width\n",
        "            y = (row + y) / grid_h # center position, unit: image height\n",
        "            w = anchors[2 * b + 0] * np.exp(w) / net_w # unit: image width\n",
        "            h = anchors[2 * b + 1] * np.exp(h) / net_h # unit: image height\n",
        "            # last elements are class probabilities\n",
        "            classes = netout[int(row)][col][b][5:]  # last element has classes \n",
        "            box = BoundBox(x-w/2, y-h/2, x+w/2, y+h/2, objectness, classes) # to return the class and probs\n",
        "            boxes.append(box)\n",
        "    return boxes\n",
        "\n",
        "'''\n",
        "boxes actually contains size as per model defintion. I translated to original input shape so that these boxes can be applied \n",
        "to detect real images.\n",
        "\n",
        "correct_yolo_boxes() function inputs boxes, model image & original shape  shape and reframe the bounding boxes shape.\n",
        "'''\n",
        "\n",
        "def correct_yolo_boxes(boxes, image_h, image_w, net_h, net_w):\n",
        "    new_w, new_h = net_w, net_h\n",
        "    for i in range(len(boxes)):\n",
        "        x_offset, x_scale = (net_w - new_w)/2./net_w, float(new_w)/net_w\n",
        "        y_offset, y_scale = (net_h - new_h)/2./net_h, float(new_h)/net_h\n",
        "        boxes[i].xmin = int((boxes[i].xmin - x_offset) / x_scale * image_w)\n",
        "        boxes[i].xmax = int((boxes[i].xmax - x_offset) / x_scale * image_w)\n",
        "        boxes[i].ymin = int((boxes[i].ymin - y_offset) / y_scale * image_h)\n",
        "        boxes[i].ymax = int((boxes[i].ymax - y_offset) / y_scale * image_h)\n",
        "\n",
        "def _interval_overlap(interval_a, interval_b):\n",
        "    x1, x2 = interval_a\n",
        "    x3, x4 = interval_b\n",
        "    if x3 < x1:\n",
        "        if x4 < x1:\n",
        "            return 0\n",
        "        else:\n",
        "            return min(x2,x4) - x1\n",
        "    else:\n",
        "        if x2 < x3:\n",
        "             return 0\n",
        "        else:\n",
        "            return min(x2,x4) - x3\n",
        "\n",
        "'''\n",
        "calculate the intersection over union. That is selecting boxes which covers the major part of the object.\n",
        "'''\n",
        "def bbox_iou(box1, box2):\n",
        "    intersect_w = _interval_overlap([box1.xmin, box1.xmax], [box2.xmin, box2.xmax])\n",
        "    intersect_h = _interval_overlap([box1.ymin, box1.ymax], [box2.ymin, box2.ymax])\n",
        "    intersect = intersect_w * intersect_h\n",
        "    w1, h1 = box1.xmax-box1.xmin, box1.ymax-box1.ymin\n",
        "    w2, h2 = box2.xmax-box2.xmin, box2.ymax-box2.ymin\n",
        "    union = w1*h1 + w2*h2 - intersect\n",
        "    return float(intersect) / union\n",
        "'''\n",
        "Many overlapping boxes are predicted out of which the best one will be selected for an object. \n",
        "So used Non max suppression which ignores most significant overlapped boxes > 0.5, but keep bounding boxes < 0.5 as it might predict other objects in\n",
        "other cases.\n",
        "\n",
        "Using suppression ratio of 50%.\n",
        "'''\n",
        "\n",
        "def do_nms(boxes, nms_thresh):\n",
        "    if len(boxes) > 0:\n",
        "        nb_class = len(boxes[0].classes)\n",
        "    else:\n",
        "        return\n",
        "    for c in range(nb_class):\n",
        "        sorted_indices = np.argsort([-box.classes[c] for box in boxes])\n",
        "        for i in range(len(sorted_indices)):\n",
        "            index_i = sorted_indices[i]\n",
        "            if boxes[index_i].classes[c] == 0: continue\n",
        "            for j in range(i+1, len(sorted_indices)):\n",
        "                index_j = sorted_indices[j]\n",
        "                if bbox_iou(boxes[index_i], boxes[index_j]) >= nms_thresh:\n",
        "                    boxes[index_j].classes[c] = 0\n",
        "\n",
        "'''\n",
        "It loads a test image and return refined test image along with original height and width.\n",
        "'''\n",
        "\n",
        "# load and prepare an image\n",
        "def load_image_pixels(filename, shape):\n",
        "    # load the image to get its shape\n",
        "    image = load_img(filename)\n",
        "    width, height = image.size\n",
        "    # load the image with the required size\n",
        "    image = load_img(filename, target_size=shape)\n",
        "    # convert to numpy array\n",
        "    image = img_to_array(image)\n",
        "    # scale pixel values to [0, 1]\n",
        "    image = image.astype('float32')\n",
        "    image /= 255.0\n",
        "    # add a dimension so that we have one sample\n",
        "    image = expand_dims(image, 0)\n",
        "    return image, width, height\n",
        "\n",
        "# get all of the results above a threshold\n",
        "\n",
        "'''\n",
        "It basically iterates through all 3 boxes after appling IoU and NMS. For each box, it checks predicted probability for \n",
        "all labels (might predict other object too) and assign the label to it with probability of greather than 60%.\n",
        "\n",
        "Returned boxes will have 3 bounding boxes with the best predicted class and probability.\n",
        "\n",
        "Labels are defined in the same way as in the original model trained on MSCOCO dataset.\n",
        "'''\n",
        "\n",
        "def get_boxes(boxes, labels, thresh):\n",
        "    v_boxes, v_labels, v_scores = list(), list(), list()\n",
        "    # enumerate all boxes\n",
        "    for box in boxes:\n",
        "        # enumerate all possible labels\n",
        "        for i in range(len(labels)):\n",
        "            # check if the threshold for this label is high enough\n",
        "            if box.classes[i] > thresh:\n",
        "                v_boxes.append(box)\n",
        "                v_labels.append(labels[i])\n",
        "                v_scores.append(box.classes[i]*100)\n",
        "                # don't break, many labels may trigger for one box\n",
        "    return v_boxes, v_labels, v_scores\n",
        "\n",
        "# draw all results\n",
        "'''\n",
        "draw_boxes() takes in original test file which requires prediction. That image gets plotted and x,y labels are extracted \n",
        "from the boxes and rectangle is created and plotted to view the bounding boxes around the image objects along with probability. \n",
        "'''\n",
        "def draw_boxes(filename, v_boxes, v_labels, v_scores):\n",
        "    # load the image\n",
        "    data = pyplot.imread(filename)\n",
        "    # plot the image\n",
        "    pyplot.imshow(data)\n",
        "    # get the context for drawing boxes\n",
        "    ax = pyplot.gca()\n",
        "    # plot each box\n",
        "    for i in range(len(v_boxes)):\n",
        "        box = v_boxes[i]\n",
        "        # get coordinates\n",
        "        y1, x1, y2, x2 = box.ymin, box.xmin, box.ymax, box.xmax\n",
        "        # calculate width and height of the box\n",
        "        width, height = x2 - x1, y2 - y1\n",
        "        # create the shape\n",
        "        rect = Rectangle((x1, y1), width, height, fill=False, color='white')\n",
        "        # draw the box\n",
        "        ax.add_patch(rect)\n",
        "        # draw text and score in top left corner\n",
        "        label = \"%s (%.3f)\" % (v_labels[i], v_scores[i])\n",
        "        pyplot.text(x1, y1, label, color='white')\n",
        "    # show the plot\n",
        "    pyplot.show()\n",
        "\n"
      ]
    },
    {
      "cell_type": "code",
      "execution_count": 67,
      "id": "3731c5c5",
      "metadata": {},
      "outputs": [
        {
          "name": "stderr",
          "output_type": "stream",
          "text": [
            "WARNING:absl:No training configuration found in the save file, so the model was *not* compiled. Compile it manually.\n"
          ]
        },
        {
          "name": "stdout",
          "output_type": "stream",
          "text": [
            "WARNING:tensorflow:6 out of the last 6 calls to <function TensorFlowTrainer.make_predict_function.<locals>.one_step_on_data_distributed at 0x0000012232F8F3A0> triggered tf.function retracing. Tracing is expensive and the excessive number of tracings could be due to (1) creating @tf.function repeatedly in a loop, (2) passing tensors with different shapes, (3) passing Python objects instead of tensors. For (1), please define your @tf.function outside of the loop. For (2), @tf.function has reduce_retracing=True option that can avoid unnecessary retracing. For (3), please refer to https://www.tensorflow.org/guide/function#controlling_retracing and https://www.tensorflow.org/api_docs/python/tf/function for  more details.\n"
          ]
        },
        {
          "name": "stderr",
          "output_type": "stream",
          "text": [
            "WARNING:tensorflow:6 out of the last 6 calls to <function TensorFlowTrainer.make_predict_function.<locals>.one_step_on_data_distributed at 0x0000012232F8F3A0> triggered tf.function retracing. Tracing is expensive and the excessive number of tracings could be due to (1) creating @tf.function repeatedly in a loop, (2) passing tensors with different shapes, (3) passing Python objects instead of tensors. For (1), please define your @tf.function outside of the loop. For (2), @tf.function has reduce_retracing=True option that can avoid unnecessary retracing. For (3), please refer to https://www.tensorflow.org/guide/function#controlling_retracing and https://www.tensorflow.org/api_docs/python/tf/function for  more details.\n"
          ]
        },
        {
          "name": "stdout",
          "output_type": "stream",
          "text": [
            "\u001b[1m1/1\u001b[0m \u001b[32m━━━━━━━━━━━━━━━━━━━━\u001b[0m\u001b[37m\u001b[0m \u001b[1m2s\u001b[0m 2s/step\n",
            "[(1, 13, 13, 255), (1, 26, 26, 255), (1, 52, 52, 255)]\n",
            "10647\n",
            "10647\n"
          ]
        },
        {
          "data": {
            "image/png": "[encoded data removed]",
            "text/plain": [
              "<Figure size 432x288 with 1 Axes>"
            ]
          },
          "metadata": {
            "needs_background": "light"
          },
          "output_type": "display_data"
        }
      ],
      "source": [
        "# load yolov3 model\n",
        "model = load_model('model.h5')\n",
        "\n",
        "# define the expected input shape for the model\n",
        "input_w, input_h = 416, 416\n",
        "\n",
        "# define our new photo\n",
        "#photo_filename = 'zebra.jpg'\n",
        "photo_filename = 'pexels-pixabay-219906.jpg'\n",
        "\n",
        "\n",
        "# load and prepare image\n",
        "image, image_w, image_h = load_image_pixels(photo_filename, (input_w, input_h))\n",
        "\n",
        "# make prediction\n",
        "yhat = model.predict(image)\n",
        "\n",
        "# summarize the shape of the list of arrays\n",
        "print([a.shape for a in yhat])\n",
        "\n",
        "# define the anchors\n",
        "#anchors = [[116,90, 156,198, 373,326], [30,61, 62,45, 59,119], [10,13, 16,30, 33,23]]\n",
        "anchors = [[116,90, 156,198, 373,326], [30,61, 62,45, 59,119], [10,13, 16,30, 33,23]]\n",
        "\n",
        "# define the probability threshold for detected objects\n",
        "class_threshold = 0.6\n",
        "boxes = list()\n",
        "for i in range(len(yhat)): #3\n",
        "    # decode the output of the network\n",
        "    boxes += decode_netout(yhat[i][0], anchors[i], class_threshold, input_h, input_w)\n",
        "    \n",
        "print(len(boxes))   \n",
        "# correct the sizes of the bounding boxes for the shape of the image\n",
        "correct_yolo_boxes(boxes, image_h, image_w, input_h, input_w)\n",
        "\n",
        "\n",
        "# suppress non-maximal boxes\n",
        "do_nms(boxes, 0.5)\n",
        "print(len(boxes))\n",
        "\n",
        "# define the labels\n",
        "labels = [\"person\", \"bicycle\", \"car\", \"motorbike\", \"aeroplane\", \"bus\", \"train\", \"truck\",\n",
        "    \"boat\", \"traffic light\", \"fire hydrant\", \"stop sign\", \"parking meter\", \"bench\",\n",
        "    \"bird\", \"cat\", \"dog\", \"horse\", \"sheep\", \"cow\", \"elephant\", \"bear\", \"zebra\", \"giraffe\",\n",
        "    \"backpack\", \"umbrella\", \"handbag\", \"tie\", \"suitcase\", \"frisbee\", \"skis\", \"snowboard\",\n",
        "    \"sports ball\", \"kite\", \"baseball bat\", \"baseball glove\", \"skateboard\", \"surfboard\",\n",
        "    \"tennis racket\", \"bottle\", \"wine glass\", \"cup\", \"fork\", \"knife\", \"spoon\", \"bowl\", \"banana\",\n",
        "    \"apple\", \"sandwich\", \"orange\", \"broccoli\", \"carrot\", \"hot dog\", \"pizza\", \"donut\", \"cake\",\n",
        "    \"chair\", \"sofa\", \"pottedplant\", \"bed\", \"diningtable\", \"toilet\", \"tvmonitor\", \"laptop\", \"mouse\",\n",
        "    \"remote\", \"keyboard\", \"cell phone\", \"microwave\", \"oven\", \"toaster\", \"sink\", \"refrigerator\",\n",
        "    \"book\", \"clock\", \"vase\", \"scissors\", \"teddy bear\", \"hair drier\", \"toothbrush\"]\n",
        "\n",
        "\n",
        "# get the details of the detected objects\n",
        "v_boxes, v_labels, v_scores = get_boxes(boxes, labels, class_threshold)\n",
        "\n",
        "\n",
        "# summarize what we found\n",
        "for i in range(len(v_boxes)):\n",
        "    print(v_labels[i], v_scores[i])\n",
        "    \n",
        "    \n",
        "# draw what we found\n",
        "draw_boxes(photo_filename, v_boxes, v_labels, v_scores)"
      ]
    },
    {
      "cell_type": "code",
      "execution_count": null,
      "id": "449ef18e",
      "metadata": {},
      "outputs": [],
      "source": [
        " "
      ]
    },
    {
      "cell_type": "code",
      "execution_count": 62,
      "id": "8b1ec0a7",
      "metadata": {},
      "outputs": [
        {
          "data": {
            "text/plain": [
              "['zebra', 'zebra', 'zebra']"
            ]
          },
          "execution_count": 62,
          "metadata": {},
          "output_type": "execute_result"
        }
      ],
      "source": [
        "v_labels "
      ]
    },
    {
      "cell_type": "code",
      "execution_count": 63,
      "id": "be542c5b",
      "metadata": {},
      "outputs": [
        {
          "data": {
            "text/plain": [
              "[99.81460571289062, 93.89262795448303, 96.8082845211029]"
            ]
          },
          "execution_count": 63,
          "metadata": {},
          "output_type": "execute_result"
        }
      ],
      "source": [
        "v_scores"
      ]
    },
    {
      "cell_type": "code",
      "execution_count": 60,
      "id": "e4232a5e",
      "metadata": {},
      "outputs": [
        {
          "data": {
            "text/plain": [
              "133.0875"
            ]
          },
          "execution_count": 60,
          "metadata": {},
          "output_type": "execute_result"
        }
      ],
      "source": [
        "len(boxes)"
      ]
    },
    {
      "cell_type": "code",
      "execution_count": 56,
      "id": "0bff2b2e",
      "metadata": {},
      "outputs": [
        {
          "data": {
            "text/plain": [
              "[<__main__.BoundBox at 0x1220ea78c70>,\n",
              " <__main__.BoundBox at 0x1220ea788b0>,\n",
              " <__main__.BoundBox at 0x1220ea786d0>]"
            ]
          },
          "execution_count": 56,
          "metadata": {},
          "output_type": "execute_result"
        }
      ],
      "source": [
        "v_boxes"
      ]
    },
    {
      "cell_type": "code",
      "execution_count": 49,
      "id": "5f056fe8",
      "metadata": {},
      "outputs": [
        {
          "data": {
            "text/plain": [
              "80"
            ]
          },
          "execution_count": 49,
          "metadata": {},
          "output_type": "execute_result"
        }
      ],
      "source": [
        "len(labels)"
      ]
    },
    {
      "cell_type": "code",
      "execution_count": 15,
      "id": "0999b30e",
      "metadata": {},
      "outputs": [
        {
          "data": {
            "text/plain": [
              "3"
            ]
          },
          "execution_count": 15,
          "metadata": {},
          "output_type": "execute_result"
        }
      ],
      "source": [
        "len(yhat)"
      ]
    },
    {
      "cell_type": "code",
      "execution_count": 42,
      "id": "2003b12f",
      "metadata": {},
      "outputs": [
        {
          "data": {
            "text/plain": [
              "13"
            ]
          },
          "execution_count": 42,
          "metadata": {},
          "output_type": "execute_result"
        }
      ],
      "source": [
        "len(yhat[0][0])"
      ]
    },
    {
      "cell_type": "code",
      "execution_count": 43,
      "id": "227223ea",
      "metadata": {},
      "outputs": [],
      "source": [
        "netout = yhat[0]\n",
        "grid_h, grid_w = netout.shape[:2]        # pulled first two numbers as grid height and grid width\n",
        " \n",
        "nb_box = 3                               # 3 boxes to consider \n",
        "netout = netout.reshape((grid_h, grid_w, nb_box, -1)) \n",
        "nb_class = netout.shape[-1] - 5"
      ]
    },
    {
      "cell_type": "code",
      "execution_count": 55,
      "id": "380f38ea",
      "metadata": {},
      "outputs": [
        {
          "ename": "AttributeError",
          "evalue": "'numpy.ndarray' object has no attribute 'classes'",
          "output_type": "error",
          "traceback": [
            "\u001b[1;31m---------------------------------------------------------------------------\u001b[0m",
            "\u001b[1;31mAttributeError\u001b[0m                            Traceback (most recent call last)",
            "\u001b[1;32m~\\AppData\\Local\\Temp/ipykernel_22592/617021690.py\u001b[0m in \u001b[0;36m<module>\u001b[1;34m\u001b[0m\n\u001b[1;32m----> 1\u001b[1;33m \u001b[0mnetout\u001b[0m\u001b[1;33m.\u001b[0m\u001b[0mclasses\u001b[0m\u001b[1;33m\u001b[0m\u001b[1;33m\u001b[0m\u001b[0m\n\u001b[0m",
            "\u001b[1;31mAttributeError\u001b[0m: 'numpy.ndarray' object has no attribute 'classes'"
          ]
        }
      ],
      "source": [
        "netout.classes"
      ]
    },
    {
      "cell_type": "code",
      "execution_count": 54,
      "id": "f98a393f",
      "metadata": {},
      "outputs": [
        {
          "data": {
            "text/plain": [
              "1"
            ]
          },
          "execution_count": 54,
          "metadata": {},
          "output_type": "execute_result"
        }
      ],
      "source": [
        "len(netout)"
      ]
    },
    {
      "cell_type": "code",
      "execution_count": 44,
      "id": "70043127",
      "metadata": {},
      "outputs": [
        {
          "data": {
            "text/plain": [
              "13"
            ]
          },
          "execution_count": 44,
          "metadata": {},
          "output_type": "execute_result"
        }
      ],
      "source": [
        "grid_w"
      ]
    },
    {
      "cell_type": "code",
      "execution_count": 45,
      "id": "cdcb14ef",
      "metadata": {},
      "outputs": [
        {
          "data": {
            "text/plain": [
              "1"
            ]
          },
          "execution_count": 45,
          "metadata": {},
          "output_type": "execute_result"
        }
      ],
      "source": [
        "grid_h"
      ]
    },
    {
      "cell_type": "code",
      "execution_count": 47,
      "id": "0d9801c5",
      "metadata": {},
      "outputs": [
        {
          "data": {
            "text/plain": [
              "1100"
            ]
          },
          "execution_count": 47,
          "metadata": {},
          "output_type": "execute_result"
        }
      ],
      "source": [
        "nb_class"
      ]
    },
    {
      "cell_type": "code",
      "execution_count": 48,
      "id": "14ff0cf4",
      "metadata": {},
      "outputs": [
        {
          "data": {
            "text/plain": [
              "1105"
            ]
          },
          "execution_count": 48,
          "metadata": {},
          "output_type": "execute_result"
        }
      ],
      "source": [
        "netout.shape[-1]"
      ]
    },
    {
      "cell_type": "code",
      "execution_count": 46,
      "id": "57db719c",
      "metadata": {},
      "outputs": [
        {
          "data": {
            "text/plain": [
              "array([[[[ 0.4441294 ,  0.66123515,  0.349642  , ...,  0.        ,\n",
              "           0.        ,  0.        ],\n",
              "         [ 0.6056709 ,  0.5527229 ,  0.26368245, ...,  0.        ,\n",
              "           0.        ,  0.        ],\n",
              "         [ 0.5184089 ,  0.44042307, -0.02468631, ...,  0.        ,\n",
              "           0.        ,  0.        ]],\n",
              "\n",
              "        [[ 0.4440028 ,  0.48940116, -0.01934844, ...,  0.        ,\n",
              "           0.        ,  0.        ],\n",
              "         [ 0.51246035,  0.44223785,  0.38866878, ...,  0.        ,\n",
              "           0.        ,  0.        ],\n",
              "         [ 0.39422604,  0.48099983,  0.00302744, ...,  0.        ,\n",
              "           0.        ,  0.        ]],\n",
              "\n",
              "        [[ 0.33998668,  0.43431708,  0.09454987, ...,  0.        ,\n",
              "           0.        ,  0.        ],\n",
              "         [ 0.54451734,  0.4899438 ,  0.25604925, ...,  0.        ,\n",
              "           0.        ,  0.        ],\n",
              "         [ 0.4789279 ,  0.56869227, -0.02400136, ...,  0.        ,\n",
              "           0.        ,  0.        ]],\n",
              "\n",
              "        ...,\n",
              "\n",
              "        [[ 0.53069115,  0.6669347 , -0.37335688, ...,  0.        ,\n",
              "           0.        ,  0.        ],\n",
              "         [ 0.4418478 ,  0.4816485 ,  0.15409821, ...,  0.        ,\n",
              "           0.        ,  0.        ],\n",
              "         [ 0.2347247 ,  0.44578603, -0.18841171, ...,  0.        ,\n",
              "           0.        ,  0.        ]],\n",
              "\n",
              "        [[ 0.5461305 ,  0.41174784, -0.40702   , ...,  0.        ,\n",
              "           0.        ,  0.        ],\n",
              "         [ 0.4907429 ,  0.14224584,  0.17935783, ...,  0.        ,\n",
              "           0.        ,  0.        ],\n",
              "         [ 0.19458969,  0.27567753, -0.11903927, ...,  0.        ,\n",
              "           0.        ,  0.        ]],\n",
              "\n",
              "        [[ 0.6168269 ,  0.36371475,  0.04398282, ...,  0.        ,\n",
              "           0.        ,  0.        ],\n",
              "         [ 0.55665714,  0.59064597,  0.18354839, ...,  0.        ,\n",
              "           0.        ,  0.        ],\n",
              "         [ 0.3228331 ,  0.5997008 , -0.16261384, ...,  0.        ,\n",
              "           0.        ,  0.        ]]]], dtype=float32)"
            ]
          },
          "execution_count": 46,
          "metadata": {},
          "output_type": "execute_result"
        }
      ],
      "source": [
        "netout"
      ]
    },
    {
      "cell_type": "code",
      "execution_count": 41,
      "id": "959f1f42",
      "metadata": {},
      "outputs": [
        {
          "data": {
            "text/plain": [
              "(1, 13)"
            ]
          },
          "execution_count": 41,
          "metadata": {},
          "output_type": "execute_result"
        }
      ],
      "source": [
        "yhat[0].shape[:2] "
      ]
    },
    {
      "cell_type": "code",
      "execution_count": 34,
      "id": "528b495a",
      "metadata": {},
      "outputs": [
        {
          "data": {
            "text/plain": [
              "255"
            ]
          },
          "execution_count": 34,
          "metadata": {},
          "output_type": "execute_result"
        }
      ],
      "source": [
        "len(yhat[1][0][0][0])"
      ]
    },
    {
      "cell_type": "code",
      "execution_count": 36,
      "id": "26bf73f9",
      "metadata": {},
      "outputs": [
        {
          "data": {
            "text/plain": [
              "array([ 5.8820623e-01,  6.5515661e-01, -3.3857125e-01, -3.3997744e-02,\n",
              "        9.7447889e-07,  0.0000000e+00,  0.0000000e+00,  0.0000000e+00,\n",
              "        0.0000000e+00,  0.0000000e+00,  0.0000000e+00,  0.0000000e+00,\n",
              "        0.0000000e+00,  0.0000000e+00,  0.0000000e+00,  0.0000000e+00,\n",
              "        0.0000000e+00,  0.0000000e+00,  0.0000000e+00,  0.0000000e+00,\n",
              "        0.0000000e+00,  0.0000000e+00,  0.0000000e+00,  0.0000000e+00,\n",
              "        0.0000000e+00,  0.0000000e+00,  0.0000000e+00,  0.0000000e+00,\n",
              "        0.0000000e+00,  0.0000000e+00,  0.0000000e+00,  0.0000000e+00,\n",
              "        0.0000000e+00,  0.0000000e+00,  0.0000000e+00,  0.0000000e+00,\n",
              "        0.0000000e+00,  0.0000000e+00,  0.0000000e+00,  0.0000000e+00,\n",
              "        0.0000000e+00,  0.0000000e+00,  0.0000000e+00,  0.0000000e+00,\n",
              "        0.0000000e+00,  0.0000000e+00,  0.0000000e+00,  0.0000000e+00,\n",
              "        0.0000000e+00,  0.0000000e+00,  0.0000000e+00,  0.0000000e+00,\n",
              "        0.0000000e+00,  0.0000000e+00,  0.0000000e+00,  0.0000000e+00,\n",
              "        0.0000000e+00,  0.0000000e+00,  0.0000000e+00,  0.0000000e+00,\n",
              "        0.0000000e+00,  0.0000000e+00,  0.0000000e+00,  0.0000000e+00,\n",
              "        0.0000000e+00,  0.0000000e+00,  0.0000000e+00,  0.0000000e+00,\n",
              "        0.0000000e+00,  0.0000000e+00,  0.0000000e+00,  0.0000000e+00,\n",
              "        0.0000000e+00,  0.0000000e+00,  0.0000000e+00,  0.0000000e+00,\n",
              "        0.0000000e+00,  0.0000000e+00,  0.0000000e+00,  0.0000000e+00,\n",
              "        0.0000000e+00,  0.0000000e+00,  0.0000000e+00,  0.0000000e+00,\n",
              "        0.0000000e+00,  5.8864003e-01,  5.4899466e-01,  7.7668858e-01,\n",
              "       -7.3156124e-01,  3.7456266e-07,  0.0000000e+00,  0.0000000e+00,\n",
              "        0.0000000e+00,  0.0000000e+00,  0.0000000e+00,  0.0000000e+00,\n",
              "        0.0000000e+00,  0.0000000e+00,  0.0000000e+00,  0.0000000e+00,\n",
              "        0.0000000e+00,  0.0000000e+00,  0.0000000e+00,  0.0000000e+00,\n",
              "        0.0000000e+00,  0.0000000e+00,  0.0000000e+00,  0.0000000e+00,\n",
              "        0.0000000e+00,  0.0000000e+00,  0.0000000e+00,  0.0000000e+00,\n",
              "        0.0000000e+00,  0.0000000e+00,  0.0000000e+00,  0.0000000e+00,\n",
              "        0.0000000e+00,  0.0000000e+00,  0.0000000e+00,  0.0000000e+00,\n",
              "        0.0000000e+00,  0.0000000e+00,  0.0000000e+00,  0.0000000e+00,\n",
              "        0.0000000e+00,  0.0000000e+00,  0.0000000e+00,  0.0000000e+00,\n",
              "        0.0000000e+00,  0.0000000e+00,  0.0000000e+00,  0.0000000e+00,\n",
              "        0.0000000e+00,  0.0000000e+00,  0.0000000e+00,  0.0000000e+00,\n",
              "        0.0000000e+00,  0.0000000e+00,  0.0000000e+00,  0.0000000e+00,\n",
              "        0.0000000e+00,  0.0000000e+00,  0.0000000e+00,  0.0000000e+00,\n",
              "        0.0000000e+00,  0.0000000e+00,  0.0000000e+00,  0.0000000e+00,\n",
              "        0.0000000e+00,  0.0000000e+00,  0.0000000e+00,  0.0000000e+00,\n",
              "        0.0000000e+00,  0.0000000e+00,  0.0000000e+00,  0.0000000e+00,\n",
              "        0.0000000e+00,  0.0000000e+00,  0.0000000e+00,  0.0000000e+00,\n",
              "        0.0000000e+00,  0.0000000e+00,  0.0000000e+00,  0.0000000e+00,\n",
              "        0.0000000e+00,  0.0000000e+00,  0.0000000e+00,  0.0000000e+00,\n",
              "        0.0000000e+00,  0.0000000e+00,  6.4331526e-01,  4.8957992e-01,\n",
              "       -7.1340758e-01,  4.7174880e-01,  3.5253646e-07,  0.0000000e+00,\n",
              "        0.0000000e+00,  0.0000000e+00,  0.0000000e+00,  0.0000000e+00,\n",
              "        0.0000000e+00,  0.0000000e+00,  0.0000000e+00,  0.0000000e+00,\n",
              "        0.0000000e+00,  0.0000000e+00,  0.0000000e+00,  0.0000000e+00,\n",
              "        0.0000000e+00,  0.0000000e+00,  0.0000000e+00,  0.0000000e+00,\n",
              "        0.0000000e+00,  0.0000000e+00,  0.0000000e+00,  0.0000000e+00,\n",
              "        0.0000000e+00,  0.0000000e+00,  0.0000000e+00,  0.0000000e+00,\n",
              "        0.0000000e+00,  0.0000000e+00,  0.0000000e+00,  0.0000000e+00,\n",
              "        0.0000000e+00,  0.0000000e+00,  0.0000000e+00,  0.0000000e+00,\n",
              "        0.0000000e+00,  0.0000000e+00,  0.0000000e+00,  0.0000000e+00,\n",
              "        0.0000000e+00,  0.0000000e+00,  0.0000000e+00,  0.0000000e+00,\n",
              "        0.0000000e+00,  0.0000000e+00,  0.0000000e+00,  0.0000000e+00,\n",
              "        0.0000000e+00,  0.0000000e+00,  0.0000000e+00,  0.0000000e+00,\n",
              "        0.0000000e+00,  0.0000000e+00,  0.0000000e+00,  0.0000000e+00,\n",
              "        0.0000000e+00,  0.0000000e+00,  0.0000000e+00,  0.0000000e+00,\n",
              "        0.0000000e+00,  0.0000000e+00,  0.0000000e+00,  0.0000000e+00,\n",
              "        0.0000000e+00,  0.0000000e+00,  0.0000000e+00,  0.0000000e+00,\n",
              "        0.0000000e+00,  0.0000000e+00,  0.0000000e+00,  0.0000000e+00,\n",
              "        0.0000000e+00,  0.0000000e+00,  0.0000000e+00,  0.0000000e+00,\n",
              "        0.0000000e+00,  0.0000000e+00,  0.0000000e+00,  0.0000000e+00,\n",
              "        0.0000000e+00,  0.0000000e+00,  0.0000000e+00], dtype=float32)"
            ]
          },
          "execution_count": 36,
          "metadata": {},
          "output_type": "execute_result"
        }
      ],
      "source": [
        "yhat[1][0][0][0]"
      ]
    }
  ],
  "metadata": {
    "kernelspec": {
      "display_name": "Python 3 (ipykernel)",
      "language": "python",
      "name": "python3"
    },
    "language_info": {
      "codemirror_mode": {
        "name": "ipython",
        "version": 3
      },
      "file_extension": ".py",
      "mimetype": "text/x-python",
      "name": "python",
      "nbconvert_exporter": "python",
      "pygments_lexer": "ipython3",
      "version": "3.9.7"
    }
  },
  "nbformat": 4,
  "nbformat_minor": 5
}